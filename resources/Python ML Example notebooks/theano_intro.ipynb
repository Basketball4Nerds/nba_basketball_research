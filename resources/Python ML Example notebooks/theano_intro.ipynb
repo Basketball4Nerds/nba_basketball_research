{
 "cells": [
  {
   "cell_type": "markdown",
   "metadata": {},
   "source": [
    "# Theano  "
   ]
  },
  {
   "cell_type": "markdown",
   "metadata": {},
   "source": [
    "Interest in neural networks, and in particular those with architechures that support deep learning, has been surging in recent years.  \n",
    "\n",
    "In this notebook we will be revisiting the problem of digit classification on the MNIST data.  In doing so, we will introduce a new Python library, Theano, for working with neural networks.  Theano is a popular choice for neural networks as the same code can be run on either CPUs or GPUs.  GPUs greatly speed up the training and prediction, and is readily available. Amazon even offers GPU machines on EC2.  \n",
    "\n",
    "In part 1, we'll introduce Theano, and refresh ourselves on the MNIST dataset.  In part 2, we'll create a multi-layer neural network with a simple architechure, and train it using backpropagation.  Part 3 will introduce the convolutional architechure, which can be said to be doing 'deep learning' (also called feature learning or representation learning)."
   ]
  },
  {
   "cell_type": "markdown",
   "metadata": {},
   "source": [
    "#### Part 1: Basics"
   ]
  },
  {
   "cell_type": "markdown",
   "metadata": {},
   "source": [
    "Lets start to look at Theano.  If later you'd like to go deeper into Theano, you may want to read this paper: http://www.iro.umontreal.ca/~lisa/pointeurs/theano_scipy2010.pdf\n",
    "\n",
    "Install Theano if you haven't already.  Then let's load it, and set it to work with a CPU.  For reference, here is the Theano documentation: http://www.deeplearning.net/software/theano/library/"
   ]
  },
  {
   "cell_type": "code",
   "execution_count": 2,
   "metadata": {
    "collapsed": false
   },
   "outputs": [
    {
     "name": "stdout",
     "output_type": "stream",
     "text": [
      "cpu\n",
      "float64\n"
     ]
    }
   ],
   "source": [
    "%matplotlib inline\n",
    "\n",
    "import numpy as np\n",
    "from sklearn.datasets import fetch_mldata\n",
    "from sklearn.metrics import classification_report\n",
    "from sklearn.neighbors import KNeighborsClassifier\n",
    "import time\n",
    "\n",
    "import theano \n",
    "from theano import tensor as T\n",
    "from theano.sandbox.rng_mrg import MRG_RandomStreams as RandomStreams\n",
    "print(theano.config.device) # We're using CPUs (for now)\n",
    "print(theano.config.floatX) # Should be 64 bit for CPUs\n",
    "\n",
    "np.random.seed(0)\n",
    "\n",
    "from IPython.display import display, clear_output \n",
    "\n",
    "import matplotlib.pyplot as plt\n",
    "%matplotlib inline"
   ]
  },
  {
   "cell_type": "code",
   "execution_count": 5,
   "metadata": {
    "collapsed": false
   },
   "outputs": [
    {
     "name": "stdout",
     "output_type": "stream",
     "text": [
      "2.0\n",
      "20.0\n"
     ]
    }
   ],
   "source": [
    "## basics: theano multiplication\n",
    "\n",
    "a = T.scalar()\n",
    "b = T.scalar()\n",
    "\n",
    "z = a * b\n",
    "\n",
    "mult = theano.function(inputs = [b, a], outputs = z)\n",
    "\n",
    "print(mult(1, 2))\n",
    "print(mult(4, 5))"
   ]
  },
  {
   "cell_type": "code",
   "execution_count": 6,
   "metadata": {
    "collapsed": false
   },
   "outputs": [
    {
     "name": "stdout",
     "output_type": "stream",
     "text": [
      "9.2\n"
     ]
    }
   ],
   "source": [
    "# more arbitrary\n",
    "\n",
    "# symbolic variables\n",
    "a = T.scalar()\n",
    "b = T.scalar()\n",
    "c = T.scalar()\n",
    "d = T.scalar()\n",
    "\n",
    "# manipulation of these symbolic guys\n",
    "z = a * b + c / d\n",
    "\n",
    "# function actually does the work\n",
    "complexGuy = theano.function(inputs= [a, b, c, d], outputs = z)\n",
    "\n",
    "# here it is\n",
    "print(complexGuy(3, 3, 1, 5))"
   ]
  },
  {
   "cell_type": "code",
   "execution_count": 7,
   "metadata": {
    "collapsed": false
   },
   "outputs": [
    {
     "name": "stdout",
     "output_type": "stream",
     "text": [
      "0.0\n"
     ]
    }
   ],
   "source": [
    "# shared variables: both symbolic and not...\n",
    "\n",
    "w = theano.shared(np.asarray(0., dtype=theano.config.floatX))\n",
    "\n",
    "xx = T.scalar()\n",
    "\n",
    "update = [[w, w + xx]]\n",
    "\n",
    "addition = theano.function(inputs=[xx], outputs=xx, updates=update)\n",
    "\n",
    "# here's how you actually get it out\n",
    "print(w.get_value())"
   ]
  },
  {
   "cell_type": "code",
   "execution_count": 21,
   "metadata": {
    "collapsed": false
   },
   "outputs": [
    {
     "name": "stdout",
     "output_type": "stream",
     "text": [
      "23.0\n"
     ]
    }
   ],
   "source": [
    "addition(1)\n",
    "\n",
    "print(w.get_value())"
   ]
  },
  {
   "cell_type": "code",
   "execution_count": 20,
   "metadata": {
    "collapsed": false
   },
   "outputs": [
    {
     "name": "stdout",
     "output_type": "stream",
     "text": [
      "22.0\n"
     ]
    }
   ],
   "source": [
    "addition(4)\n",
    "print(w.get_value())\n"
   ]
  },
  {
   "cell_type": "code",
   "execution_count": 47,
   "metadata": {
    "collapsed": false
   },
   "outputs": [
    {
     "name": "stdout",
     "output_type": "stream",
     "text": [
      "Round  99 : 40.06774579360402\n",
      "final value:  40.06774579360402\n"
     ]
    },
    {
     "data": {
      "image/png": "[encoded data removed]",
      "text/plain": [
       "<matplotlib.figure.Figure at 0x1099cf828>"
      ]
     },
     "metadata": {},
     "output_type": "display_data"
    }
   ],
   "source": [
    "target_beta_1 = 40.\n",
    "learning_rate = 0.01\n",
    "noise = 0.2\n",
    "\n",
    "trainX = np.linspace(-1, 1, 50)\n",
    "trainY = target_beta_1 * trainX + np.random.randn(*trainX.shape) * noise\n",
    "\n",
    "plt.scatter(trainX, trainY)\n",
    "\n",
    "# symbolic\n",
    "X = T.scalar()\n",
    "Y = T.scalar()\n",
    "\n",
    "def model(X, w):\n",
    "    return X * w\n",
    "\n",
    "w = theano.shared(np.asarray(0., dtype=theano.config.floatX))\n",
    "yhat = model(X, w)\n",
    "\n",
    "cost = T.mean(T.sqr(yhat - Y))\n",
    "gradient = T.grad(cost=cost, wrt=w)\n",
    "\n",
    "updates = [[w, w - gradient * learning_rate]]\n",
    "\n",
    "train = theano.function(inputs=[X, Y], outputs=cost, updates=updates, allow_input_downcast=True)\n",
    "\n",
    "\n",
    "for i in range(100):\n",
    "    for xx, yy in zip(trainX, trainY):\n",
    "        cc = train(xx, yy)\n",
    "    clear_output(wait=True)\n",
    "    print(\"Round \", i, \":\", w.get_value()) #, cc\n",
    "        \n",
    "print(\"final value: \", w.get_value())\n"
   ]
  },
  {
   "cell_type": "markdown",
   "metadata": {},
   "source": [
    "Can we add an intercept to the model above?"
   ]
  },
  {
   "cell_type": "code",
   "execution_count": 50,
   "metadata": {
    "collapsed": false
   },
   "outputs": [
    {
     "name": "stdout",
     "output_type": "stream",
     "text": [
      "Round  49 : [ -7.0384696   13.00762295] 0.14964057545814996\n",
      "final value:  [ -7.0384696   13.00762295]\n"
     ]
    }
   ],
   "source": [
    "## intercept model here..\n",
    "target_beta_1 = 13.\n",
    "target_beta_0 = -7.\n",
    "learning_rate = 0.01\n",
    "noise = 0.2\n",
    "\n",
    "trainX = np.linspace(-2, 1, 50)\n",
    "trainY = target_beta_0 + target_beta_1 * trainX + np.random.randn(*trainX.shape) * noise\n",
    "\n",
    "X = T.scalar()\n",
    "Y = T.scalar()\n",
    "\n",
    "def model(X, w):\n",
    "    return X * w[1] + w[0]\n",
    "\n",
    "w = theano.shared(np.asarray([0., 0.], dtype=theano.config.floatX))\n",
    "yhat = model(X, w)\n",
    "\n",
    "cost = T.mean(T.sqr(yhat - Y))\n",
    "gradient = T.grad(cost=cost, wrt=w)\n",
    "\n",
    "updates = [[w, w - gradient * learning_rate]]\n",
    "\n",
    "train = theano.function(inputs=[X, Y], outputs=cost, updates=updates, allow_input_downcast=True)\n",
    "\n",
    "for i in range(50):\n",
    "    for xx, yy in zip(trainX, trainY):\n",
    "        cc = train(xx, yy)\n",
    "    clear_output(wait=True)\n",
    "    print(\"Round \", i, \":\", w.get_value(), cc)\n",
    "        \n",
    "print(\"final value: \", w.get_value())"
   ]
  },
  {
   "cell_type": "code",
   "execution_count": null,
   "metadata": {
    "collapsed": true
   },
   "outputs": [],
   "source": []
  }
 ],
 "metadata": {
  "kernelspec": {
   "display_name": "Python 3",
   "language": "python",
   "name": "python3"
  },
  "language_info": {
   "codemirror_mode": {
    "name": "ipython",
    "version": 3
   },
   "file_extension": ".py",
   "mimetype": "text/x-python",
   "name": "python",
   "nbconvert_exporter": "python",
   "pygments_lexer": "ipython3",
   "version": "3.5.1"
  }
 },
 "nbformat": 4,
 "nbformat_minor": 0
}
