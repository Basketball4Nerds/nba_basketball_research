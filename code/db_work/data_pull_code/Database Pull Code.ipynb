{
 "cells": [
  {
   "cell_type": "markdown",
   "metadata": {},
   "source": [
    "# NBA Database Pull Code"
   ]
  },
  {
   "cell_type": "code",
   "execution_count": 85,
   "metadata": {
    "collapsed": false
   },
   "outputs": [],
   "source": [
    "import pandas as pd\n",
    "import nba_py as nba\n",
    "from nba_py import player\n",
    "from nba_py import team\n",
    "from nba_py import league\n",
    "from nba_py import game\n",
    "from nba_py.player import get_player\n",
    "from datetime import datetime\n",
    "import json\n",
    "import os\n",
    "import psycopg2\n",
    "import time\n",
    "\n"
   ]
  },
  {
   "cell_type": "code",
   "execution_count": 2,
   "metadata": {
    "collapsed": false
   },
   "outputs": [
    {
     "data": {
      "text/plain": [
       "'/Users/Dan/Desktop/nba4nerds/data_pull_code'"
      ]
     },
     "execution_count": 2,
     "metadata": {},
     "output_type": "execute_result"
    }
   ],
   "source": [
    "os.getcwd()"
   ]
  },
  {
   "cell_type": "markdown",
   "metadata": {},
   "source": [
    "## Code to Pull player_gamelogs Table"
   ]
  },
  {
   "cell_type": "code",
   "execution_count": null,
   "metadata": {
    "collapsed": false
   },
   "outputs": [],
   "source": [
    "# ###Fair warning: this code takes a while to run\n",
    "# df_players = player.PlayerList(season='2017-18', league_id= '00', only_current= '0').info()\n",
    "# for i in range(len(df_players.PERSON_ID)):\n",
    "#     if i==0:\n",
    "#         df_gl = player.PlayerGameLogs(df_players.PERSON_ID[i], league_id= '00', season= '2017-18', season_type= 'Regular Season').info()\n",
    "#     else:\n",
    "#         df_gl = df_gl.append(player.PlayerGameLogs(df_players.PERSON_ID[i], league_id= '00', season= '2017-18', season_type= 'Regular Season').info())\n",
    "\n",
    "# df_players = player.PlayerList(season='2016-17', league_id= '00', only_current= '0').info()\n",
    "# for i in range(len(df_players.PERSON_ID)):\n",
    "#     if i==0:\n",
    "#         df_gl16 = player.PlayerGameLogs(df_players.PERSON_ID[i], league_id= '00', season= '2016-17', season_type= 'Regular Season').info()\n",
    "#     else:\n",
    "#         df_gl16 = df_gl16.append(player.PlayerGameLogs(df_players.PERSON_ID[i], league_id= '00', season= '2016-17', season_type= 'Regular Season').info())\n",
    "\n",
    "# df_players = player.PlayerList(season='2015-16', league_id= '00', only_current= '0').info()\n",
    "# for i in range(len(df_players.PERSON_ID)):\n",
    "#     if i==0:\n",
    "#         df_gl15 = player.PlayerGameLogs(df_players.PERSON_ID[i], league_id= '00', season= '2015-16', season_type= 'Regular Season').info()\n",
    "#     else:\n",
    "#         df_gl15 = df_gl15.append(player.PlayerGameLogs(df_players.PERSON_ID[i], league_id= '00', season= '2015-16', season_type= 'Regular Season').info())\n",
    "\n",
    "# df_players = player.PlayerList(season='2014-15', league_id= '00', only_current= '0').info()\n",
    "# for i in range(len(df_players.PERSON_ID)):\n",
    "#     if i==0:\n",
    "#         df_gl14 = player.PlayerGameLogs(df_players.PERSON_ID[i], league_id= '00', season= '2014-15', season_type= 'Regular Season').info()\n",
    "#     else:\n",
    "#         df_gl14 = df_gl14.append(player.PlayerGameLogs(df_players.PERSON_ID[i], league_id= '00', season= '2014-15', season_type= 'Regular Season').info())\n",
    "\n",
    "# df_players = player.PlayerList(season='2013-14', league_id= '00', only_current= '0').info()\n",
    "# for i in range(len(df_players.PERSON_ID)):\n",
    "#     if i==0:\n",
    "#         df_gl13 = player.PlayerGameLogs(df_players.PERSON_ID[i], league_id= '00', season= '2013-14', season_type= 'Regular Season').info()\n",
    "#     else:\n",
    "#         df_gl13 = df_gl13.append(player.PlayerGameLogs(df_players.PERSON_ID[i], league_id= '00', season= '2013-14', season_type= 'Regular Season').info())\n",
    "\n",
    "# df_players = player.PlayerList(season='2012-13', league_id= '00', only_current= '0').info()\n",
    "# for i in range(len(df_players.PERSON_ID)):\n",
    "#     if i==0:\n",
    "#         df_gl12 = player.PlayerGameLogs(df_players.PERSON_ID[i], league_id= '00', season= '2012-13', season_type= 'Regular Season').info()\n",
    "#     else:\n",
    "#         df_gl12 = df_gl12.append(player.PlayerGameLogs(df_players.PERSON_ID[i], league_id= '00', season= '2012-13', season_type= 'Regular Season').info())\n",
    "\n",
    "# df_players = player.PlayerList(season='2011-12', league_id= '00', only_current= '0').info()\n",
    "# for i in range(len(df_players.PERSON_ID)):\n",
    "#     if i==0:\n",
    "#         df_gl11 = player.PlayerGameLogs(df_players.PERSON_ID[i], league_id= '00', season= '2011-12', season_type= 'Regular Season').info()\n",
    "#     else:\n",
    "#         df_gl11 = df_gl11.append(player.PlayerGameLogs(df_players.PERSON_ID[i], league_id= '00', season= '2011-12', season_type= 'Regular Season').info())\n",
    "\n",
    "# df_players = player.PlayerList(season='2010-11', league_id= '00', only_current= '0').info()\n",
    "# for i in range(len(df_players.PERSON_ID)):\n",
    "#     if i==0:\n",
    "#         df_gl10 = player.PlayerGameLogs(df_players.PERSON_ID[i], league_id= '00', season= '2010-11', season_type= 'Regular Season').info()\n",
    "#     else:\n",
    "#         df_gl10 = df_gl10.append(player.PlayerGameLogs(df_players.PERSON_ID[i], league_id= '00', season= '2010-11', season_type= 'Regular Season').info())\n",
    "\n",
    "# df_players = player.PlayerList(season='2009-10', league_id= '00', only_current= '0').info()\n",
    "# for i in range(len(df_players.PERSON_ID)):\n",
    "#     if i==0:\n",
    "#         df_gl09 = player.PlayerGameLogs(df_players.PERSON_ID[i], league_id= '00', season= '2009-10', season_type= 'Regular Season').info()\n",
    "#     else:\n",
    "#         df_gl09 = df_gl09.append(player.PlayerGameLogs(df_players.PERSON_ID[i], league_id= '00', season= '2009-10', season_type= 'Regular Season').info())\n",
    "\n",
    "# df_players = player.PlayerList(season='2008-09', league_id= '00', only_current= '0').info()\n",
    "# for i in range(len(df_players.PERSON_ID)):\n",
    "#     if i==0:\n",
    "#         df_gl08 = player.PlayerGameLogs(df_players.PERSON_ID[i], league_id= '00', season= '2008-09', season_type= 'Regular Season').info()\n",
    "#     else:\n",
    "#         df_gl08 = df_gl08.append(player.PlayerGameLogs(df_players.PERSON_ID[i], league_id= '00', season= '2008-09', season_type= 'Regular Season').info())\n",
    "\n",
    "# df_players = player.PlayerList(season='2007-08', league_id= '00', only_current= '0').info()\n",
    "# for i in range(len(df_players.PERSON_ID)):\n",
    "#     if i==0:\n",
    "#         df_gl07 = player.PlayerGameLogs(df_players.PERSON_ID[i], league_id= '00', season= '2007-08', season_type= 'Regular Season').info()\n",
    "#     else:\n",
    "#         df_gl07 = df_gl08.append(player.PlayerGameLogs(df_players.PERSON_ID[i], league_id= '00', season= '2007-08', season_type= 'Regular Season').info())\n",
    "\n",
    "# frames = [df_gl, df_gl16, df_gl15, df_gl14, df_gl13, df_gl12, df_gl11, df_gl10, df_gl09, df_gl08, df_gl07]\n",
    "# game_logs = pd.concat(frames)\n",
    "# len(game_logs)"
   ]
  },
  {
   "cell_type": "markdown",
   "metadata": {},
   "source": [
    "#### Save and load csv so don't have to deal with annoying pandas series when looping"
   ]
  },
  {
   "cell_type": "code",
   "execution_count": null,
   "metadata": {
    "collapsed": false
   },
   "outputs": [],
   "source": [
    "# game_logs.to_csv('db_flat/player_gamelogs.csv', index= False)\n",
    "# game_logs = pd.read_csv('db_flat/player_gamelogs.csv')"
   ]
  },
  {
   "cell_type": "markdown",
   "metadata": {},
   "source": [
    "#### Convert floats to ints"
   ]
  },
  {
   "cell_type": "code",
   "execution_count": null,
   "metadata": {
    "collapsed": false
   },
   "outputs": [],
   "source": [
    "# cols_to_int = ['SEASON_ID', 'Player_ID', 'MIN', 'FGM', 'FGA','FG3M', 'FG3A',  'FTM', 'FTA',\n",
    "#         'OREB', 'DREB', 'REB', 'AST', 'STL', 'BLK', 'TOV', 'PF',\n",
    "#        'PTS', 'PLUS_MINUS', 'VIDEO_AVAILABLE']\n",
    "# for i in range(len(cols_to_int)):\n",
    "#     game_logs[cols_to_int[i]] = game_logs[cols_to_int[i]].fillna(-1, axis=0).astype(int)"
   ]
  },
  {
   "cell_type": "code",
   "execution_count": null,
   "metadata": {
    "collapsed": false
   },
   "outputs": [],
   "source": [
    "# sid = []\n",
    "# for i in range(len(game_logs)):\n",
    "#     if game_logs.SEASON_ID[i] == 22017:\n",
    "#         sid.append('2017-18')\n",
    "#     elif game_logs.SEASON_ID[i] == 22016:\n",
    "#         sid.append('2016-17')\n",
    "#     elif game_logs.SEASON_ID[i] == 22015:\n",
    "#         sid.append('2015-16')\n",
    "#     elif game_logs.SEASON_ID[i] == 22014:\n",
    "#         sid.append('2014-15')\n",
    "#     elif game_logs.SEASON_ID[i] == 22013:\n",
    "#         sid.append('2013-14')\n",
    "#     elif game_logs.SEASON_ID[i] == 22012:\n",
    "#         sid.append('2012-13')\n",
    "#     elif game_logs.SEASON_ID[i] == 22011:\n",
    "#         sid.append('2011-12')\n",
    "#     elif game_logs.SEASON_ID[i] == 22010:\n",
    "#         sid.append('2010-11')\n",
    "#     elif game_logs.SEASON_ID[i] == 22009:\n",
    "#         sid.append('2009-10')\n",
    "#     elif game_logs.SEASON_ID[i] == 22008:\n",
    "#         sid.append('2008-09')\n",
    "#     elif game_logs.SEASON_ID[i] == 22007:\n",
    "#         sid.append('2007-08')\n",
    "# game_logs.drop(['SEASON_ID'], axis = 1)\n",
    "# game_logs['SEASON_ID']= sid"
   ]
  },
  {
   "cell_type": "markdown",
   "metadata": {},
   "source": [
    "#### Create home and away columns"
   ]
  },
  {
   "cell_type": "code",
   "execution_count": null,
   "metadata": {
    "collapsed": true
   },
   "outputs": [],
   "source": [
    "# home = []\n",
    "# away = []\n",
    "# for i in range(len(game_logs)):\n",
    "#     if \"@\" in game_logs.MATCHUP[i]:\n",
    "#         home.append(game_logs.MATCHUP[i][-3:])\n",
    "#         away.append(game_logs.MATCHUP[i][0:3])\n",
    "#     else:\n",
    "#         home.append(game_logs.MATCHUP[i][0:3])\n",
    "#         away.append(game_logs.MATCHUP[i][-3:])\n",
    "# game_logs['home'] = home\n",
    "# game_logs['away'] = away\n"
   ]
  },
  {
   "cell_type": "markdown",
   "metadata": {},
   "source": [
    "#### save over same file"
   ]
  },
  {
   "cell_type": "code",
   "execution_count": null,
   "metadata": {
    "collapsed": false
   },
   "outputs": [],
   "source": [
    "# game_logs.to_csv('db_flat/player_gamelogs.csv', index= False)"
   ]
  },
  {
   "cell_type": "markdown",
   "metadata": {},
   "source": [
    "## Get player table for ID lookup"
   ]
  },
  {
   "cell_type": "markdown",
   "metadata": {},
   "source": [
    "#### Get unique player IDs"
   ]
  },
  {
   "cell_type": "code",
   "execution_count": null,
   "metadata": {
    "collapsed": false
   },
   "outputs": [],
   "source": [
    "pids = game_logs.Player_ID.unique()"
   ]
  },
  {
   "cell_type": "code",
   "execution_count": null,
   "metadata": {
    "collapsed": false
   },
   "outputs": [],
   "source": [
    "for i in range(len(pids)):\n",
    "    if i == 0:\n",
    "        players = nba.player.PlayerSummary(pids[i]).info()\n",
    "    else:\n",
    "        players = players.append(nba.player.PlayerSummary(pids[i]).info())"
   ]
  },
  {
   "cell_type": "code",
   "execution_count": null,
   "metadata": {
    "collapsed": false
   },
   "outputs": [],
   "source": [
    "players.to_csv('db_flat/players_header.csv', index=False)"
   ]
  },
  {
   "cell_type": "markdown",
   "metadata": {
    "collapsed": true
   },
   "source": [
    "## Pull Team Box Score Data\n",
    "\n",
    "Should probably change this in the DB too to make consistent"
   ]
  },
  {
   "cell_type": "code",
   "execution_count": null,
   "metadata": {
    "collapsed": false
   },
   "outputs": [],
   "source": [
    "# gids = game_logs.Game_ID.unique()\n",
    "# for i in range(len(gids)):\n",
    "#     if i == 0:\n",
    "#         team_gl = nba.game.Boxscore(\"00\" + str(gids[i])).team_stats()\n",
    "#     else:\n",
    "#         team_gl = team_gl.append(nba.game.Boxscore(\"00\" + str(gids[i])).team_stats())"
   ]
  },
  {
   "cell_type": "code",
   "execution_count": null,
   "metadata": {
    "collapsed": true
   },
   "outputs": [],
   "source": [
    "# cols_to_int = [\"PLUS_MINUS\"]\n",
    "# for i in range(len(cols_to_int)):\n",
    "#     team_gl[cols_to_int[i]] = team_gl[cols_to_int[i]].fillna(-1, axis=0).astype(int)"
   ]
  },
  {
   "cell_type": "code",
   "execution_count": null,
   "metadata": {
    "collapsed": true
   },
   "outputs": [],
   "source": [
    "# team_gl.to_csv(\"team_game_logs.csv\", index=False)"
   ]
  },
  {
   "cell_type": "markdown",
   "metadata": {},
   "source": [
    "## Team Seasons Pull"
   ]
  },
  {
   "cell_type": "code",
   "execution_count": null,
   "metadata": {
    "collapsed": true
   },
   "outputs": [],
   "source": [
    "df_teams = nba.team.TeamList().info()[0:30]\n",
    "team_ids = df_teams.TEAM_ID.unique()\n",
    "for i in range(len(team_ids)):\n",
    "    if i == 0:\n",
    "        team_seasons = nba.team.TeamSeasons(team_ids[i]).info()\n",
    "    else:\n",
    "        team_seasons = team_seasons.append(nba.team.TeamSeasons(team_ids[i]).info())\n",
    "    "
   ]
  },
  {
   "cell_type": "code",
   "execution_count": null,
   "metadata": {
    "collapsed": true
   },
   "outputs": [],
   "source": [
    "team_seasons.to_csv(\"team_seasons.csv\", index=False )"
   ]
  },
  {
   "cell_type": "markdown",
   "metadata": {},
   "source": [
    "## Team Game Logs\n",
    "pulls team game logs"
   ]
  },
  {
   "cell_type": "code",
   "execution_count": null,
   "metadata": {
    "collapsed": false
   },
   "outputs": [],
   "source": [
    "team_gl.reset_index(inplace=True,)\n",
    "for i in range(len(team_seasons)):\n",
    "    if i == 0:\n",
    "        team_gl = nba.team.TeamGameLogs(team_seasons.TEAM_ID[i], team_seasons.YEAR[i]).info()\n",
    "    else:\n",
    "        team_gl = team_gl.append(nba.team.TeamGameLogs(team_seasons.TEAM_ID[i], team_seasons.YEAR[i]).info())"
   ]
  },
  {
   "cell_type": "code",
   "execution_count": null,
   "metadata": {
    "collapsed": false
   },
   "outputs": [],
   "source": [
    "team_gl.tail()"
   ]
  },
  {
   "cell_type": "code",
   "execution_count": null,
   "metadata": {
    "collapsed": false
   },
   "outputs": [],
   "source": [
    "cols_to_int = ['W', 'L', 'FGM', 'FGA', 'FG3M', 'FG3A', 'FTM', 'FTA', 'OREB', 'DREB','BLK', 'AST', 'STL', 'TOV', 'PF']\n",
    "for i in range(len(cols_to_int)):\n",
    "    team_gl[cols_to_int[i]] = team_gl[cols_to_int[i]].fillna(-1, axis=0).astype(int)\n",
    "team_gl.W_PCT = team_gl.W_PCT.fillna(-1.0, axis = 0)"
   ]
  },
  {
   "cell_type": "code",
   "execution_count": null,
   "metadata": {
    "collapsed": true
   },
   "outputs": [],
   "source": [
    "team_gl.to_csv(\"../db_flat/team_gamelogs.csv\", index=False)"
   ]
  },
  {
   "cell_type": "markdown",
   "metadata": {
    "collapsed": true
   },
   "source": [
    "## Redo of player game logs\n"
   ]
  },
  {
   "cell_type": "code",
   "execution_count": 4,
   "metadata": {
    "collapsed": false
   },
   "outputs": [
    {
     "data": {
      "text/html": [
       "<div>\n",
       "<table border=\"1\" class=\"dataframe\">\n",
       "  <thead>\n",
       "    <tr style=\"text-align: right;\">\n",
       "      <th></th>\n",
       "      <th>TEAM_ID</th>\n",
       "      <th>TEAM_CITY</th>\n",
       "      <th>TEAM_NAME</th>\n",
       "      <th>YEAR</th>\n",
       "      <th>GP</th>\n",
       "      <th>WINS</th>\n",
       "      <th>LOSSES</th>\n",
       "      <th>WIN_PCT</th>\n",
       "      <th>CONF_RANK</th>\n",
       "      <th>DIV_RANK</th>\n",
       "      <th>...</th>\n",
       "      <th>OREB</th>\n",
       "      <th>DREB</th>\n",
       "      <th>REB</th>\n",
       "      <th>AST</th>\n",
       "      <th>PF</th>\n",
       "      <th>STL</th>\n",
       "      <th>TOV</th>\n",
       "      <th>BLK</th>\n",
       "      <th>PTS</th>\n",
       "      <th>PTS_RANK</th>\n",
       "    </tr>\n",
       "  </thead>\n",
       "  <tbody>\n",
       "    <tr>\n",
       "      <th>0</th>\n",
       "      <td>1610612737</td>\n",
       "      <td>Tri-Cities</td>\n",
       "      <td>Blackhawks</td>\n",
       "      <td>1949-50</td>\n",
       "      <td>64</td>\n",
       "      <td>29</td>\n",
       "      <td>35</td>\n",
       "      <td>0.453</td>\n",
       "      <td>0</td>\n",
       "      <td>3</td>\n",
       "      <td>...</td>\n",
       "      <td>0.0</td>\n",
       "      <td>0.0</td>\n",
       "      <td>0.0</td>\n",
       "      <td>20.8</td>\n",
       "      <td>32.1</td>\n",
       "      <td>0.0</td>\n",
       "      <td>0.0</td>\n",
       "      <td>0.0</td>\n",
       "      <td>83.0</td>\n",
       "      <td>5</td>\n",
       "    </tr>\n",
       "    <tr>\n",
       "      <th>1</th>\n",
       "      <td>1610612737</td>\n",
       "      <td>Tri-Cities</td>\n",
       "      <td>Blackhawks</td>\n",
       "      <td>1950-51</td>\n",
       "      <td>68</td>\n",
       "      <td>25</td>\n",
       "      <td>43</td>\n",
       "      <td>0.368</td>\n",
       "      <td>0</td>\n",
       "      <td>5</td>\n",
       "      <td>...</td>\n",
       "      <td>0.0</td>\n",
       "      <td>0.0</td>\n",
       "      <td>0.0</td>\n",
       "      <td>21.7</td>\n",
       "      <td>30.8</td>\n",
       "      <td>0.0</td>\n",
       "      <td>0.0</td>\n",
       "      <td>0.0</td>\n",
       "      <td>84.3</td>\n",
       "      <td>6</td>\n",
       "    </tr>\n",
       "    <tr>\n",
       "      <th>2</th>\n",
       "      <td>1610612737</td>\n",
       "      <td>Milwaukee</td>\n",
       "      <td>Hawks</td>\n",
       "      <td>1951-52</td>\n",
       "      <td>66</td>\n",
       "      <td>17</td>\n",
       "      <td>49</td>\n",
       "      <td>0.258</td>\n",
       "      <td>0</td>\n",
       "      <td>5</td>\n",
       "      <td>...</td>\n",
       "      <td>0.0</td>\n",
       "      <td>0.0</td>\n",
       "      <td>0.0</td>\n",
       "      <td>18.6</td>\n",
       "      <td>28.0</td>\n",
       "      <td>0.0</td>\n",
       "      <td>0.0</td>\n",
       "      <td>0.0</td>\n",
       "      <td>73.2</td>\n",
       "      <td>10</td>\n",
       "    </tr>\n",
       "    <tr>\n",
       "      <th>3</th>\n",
       "      <td>1610612737</td>\n",
       "      <td>Milwaukee</td>\n",
       "      <td>Hawks</td>\n",
       "      <td>1952-53</td>\n",
       "      <td>71</td>\n",
       "      <td>27</td>\n",
       "      <td>44</td>\n",
       "      <td>0.380</td>\n",
       "      <td>0</td>\n",
       "      <td>5</td>\n",
       "      <td>...</td>\n",
       "      <td>0.0</td>\n",
       "      <td>0.0</td>\n",
       "      <td>0.0</td>\n",
       "      <td>20.1</td>\n",
       "      <td>29.9</td>\n",
       "      <td>0.0</td>\n",
       "      <td>0.0</td>\n",
       "      <td>0.0</td>\n",
       "      <td>75.9</td>\n",
       "      <td>9</td>\n",
       "    </tr>\n",
       "    <tr>\n",
       "      <th>4</th>\n",
       "      <td>1610612737</td>\n",
       "      <td>Milwaukee</td>\n",
       "      <td>Hawks</td>\n",
       "      <td>1953-54</td>\n",
       "      <td>72</td>\n",
       "      <td>21</td>\n",
       "      <td>51</td>\n",
       "      <td>0.292</td>\n",
       "      <td>0</td>\n",
       "      <td>4</td>\n",
       "      <td>...</td>\n",
       "      <td>0.0</td>\n",
       "      <td>0.0</td>\n",
       "      <td>0.0</td>\n",
       "      <td>18.0</td>\n",
       "      <td>24.6</td>\n",
       "      <td>0.0</td>\n",
       "      <td>0.0</td>\n",
       "      <td>0.0</td>\n",
       "      <td>70.0</td>\n",
       "      <td>9</td>\n",
       "    </tr>\n",
       "  </tbody>\n",
       "</table>\n",
       "<p>5 rows × 34 columns</p>\n",
       "</div>"
      ],
      "text/plain": [
       "      TEAM_ID   TEAM_CITY   TEAM_NAME     YEAR  GP  WINS  LOSSES  WIN_PCT  \\\n",
       "0  1610612737  Tri-Cities  Blackhawks  1949-50  64    29      35    0.453   \n",
       "1  1610612737  Tri-Cities  Blackhawks  1950-51  68    25      43    0.368   \n",
       "2  1610612737   Milwaukee       Hawks  1951-52  66    17      49    0.258   \n",
       "3  1610612737   Milwaukee       Hawks  1952-53  71    27      44    0.380   \n",
       "4  1610612737   Milwaukee       Hawks  1953-54  72    21      51    0.292   \n",
       "\n",
       "   CONF_RANK  DIV_RANK    ...     OREB  DREB  REB   AST    PF  STL  TOV  BLK  \\\n",
       "0          0         3    ...      0.0   0.0  0.0  20.8  32.1  0.0  0.0  0.0   \n",
       "1          0         5    ...      0.0   0.0  0.0  21.7  30.8  0.0  0.0  0.0   \n",
       "2          0         5    ...      0.0   0.0  0.0  18.6  28.0  0.0  0.0  0.0   \n",
       "3          0         5    ...      0.0   0.0  0.0  20.1  29.9  0.0  0.0  0.0   \n",
       "4          0         4    ...      0.0   0.0  0.0  18.0  24.6  0.0  0.0  0.0   \n",
       "\n",
       "    PTS  PTS_RANK  \n",
       "0  83.0         5  \n",
       "1  84.3         6  \n",
       "2  73.2        10  \n",
       "3  75.9         9  \n",
       "4  70.0         9  \n",
       "\n",
       "[5 rows x 34 columns]"
      ]
     },
     "execution_count": 4,
     "metadata": {},
     "output_type": "execute_result"
    }
   ],
   "source": [
    "df_teams = pd.read_csv(\"../db_flat/team_seasons.csv\")\n",
    "df_teams.head()"
   ]
  },
  {
   "cell_type": "code",
   "execution_count": 9,
   "metadata": {
    "collapsed": false
   },
   "outputs": [],
   "source": [
    "seasons = df_teams.YEAR.unique()\n",
    "players = nba.player.PlayerList(league_id='00', only_current=0).info()\n",
    "pids = players.PERSON_ID.unique()"
   ]
  },
  {
   "cell_type": "code",
   "execution_count": 21,
   "metadata": {
    "collapsed": false
   },
   "outputs": [
    {
     "data": {
      "text/html": [
       "<div>\n",
       "<table border=\"1\" class=\"dataframe\">\n",
       "  <thead>\n",
       "    <tr style=\"text-align: right;\">\n",
       "      <th></th>\n",
       "      <th>PERSON_ID</th>\n",
       "      <th>DISPLAY_LAST_COMMA_FIRST</th>\n",
       "      <th>DISPLAY_FIRST_LAST</th>\n",
       "      <th>ROSTERSTATUS</th>\n",
       "      <th>FROM_YEAR</th>\n",
       "      <th>TO_YEAR</th>\n",
       "      <th>PLAYERCODE</th>\n",
       "      <th>TEAM_ID</th>\n",
       "      <th>TEAM_CITY</th>\n",
       "      <th>TEAM_NAME</th>\n",
       "      <th>TEAM_ABBREVIATION</th>\n",
       "      <th>TEAM_CODE</th>\n",
       "      <th>GAMES_PLAYED_FLAG</th>\n",
       "    </tr>\n",
       "  </thead>\n",
       "  <tbody>\n",
       "    <tr>\n",
       "      <th>0</th>\n",
       "      <td>76001</td>\n",
       "      <td>Abdelnaby, Alaa</td>\n",
       "      <td>Alaa Abdelnaby</td>\n",
       "      <td>0</td>\n",
       "      <td>1990</td>\n",
       "      <td>1994</td>\n",
       "      <td>HISTADD_alaa_abdelnaby</td>\n",
       "      <td>0</td>\n",
       "      <td></td>\n",
       "      <td></td>\n",
       "      <td></td>\n",
       "      <td></td>\n",
       "      <td>Y</td>\n",
       "    </tr>\n",
       "    <tr>\n",
       "      <th>1</th>\n",
       "      <td>76002</td>\n",
       "      <td>Abdul-Aziz, Zaid</td>\n",
       "      <td>Zaid Abdul-Aziz</td>\n",
       "      <td>0</td>\n",
       "      <td>1968</td>\n",
       "      <td>1977</td>\n",
       "      <td>HISTADD_zaid_abdul-aziz</td>\n",
       "      <td>0</td>\n",
       "      <td></td>\n",
       "      <td></td>\n",
       "      <td></td>\n",
       "      <td></td>\n",
       "      <td>Y</td>\n",
       "    </tr>\n",
       "    <tr>\n",
       "      <th>2</th>\n",
       "      <td>76003</td>\n",
       "      <td>Abdul-Jabbar, Kareem</td>\n",
       "      <td>Kareem Abdul-Jabbar</td>\n",
       "      <td>0</td>\n",
       "      <td>1969</td>\n",
       "      <td>1988</td>\n",
       "      <td>HISTADD_kareem_abdul-jabbar</td>\n",
       "      <td>0</td>\n",
       "      <td></td>\n",
       "      <td></td>\n",
       "      <td></td>\n",
       "      <td></td>\n",
       "      <td>Y</td>\n",
       "    </tr>\n",
       "    <tr>\n",
       "      <th>3</th>\n",
       "      <td>51</td>\n",
       "      <td>Abdul-Rauf, Mahmoud</td>\n",
       "      <td>Mahmoud Abdul-Rauf</td>\n",
       "      <td>0</td>\n",
       "      <td>1990</td>\n",
       "      <td>2000</td>\n",
       "      <td>mahmoud_abdul-rauf</td>\n",
       "      <td>0</td>\n",
       "      <td></td>\n",
       "      <td></td>\n",
       "      <td></td>\n",
       "      <td></td>\n",
       "      <td>Y</td>\n",
       "    </tr>\n",
       "    <tr>\n",
       "      <th>4</th>\n",
       "      <td>1505</td>\n",
       "      <td>Abdul-Wahad, Tariq</td>\n",
       "      <td>Tariq Abdul-Wahad</td>\n",
       "      <td>0</td>\n",
       "      <td>1997</td>\n",
       "      <td>2003</td>\n",
       "      <td>tariq_abdul-wahad</td>\n",
       "      <td>0</td>\n",
       "      <td></td>\n",
       "      <td></td>\n",
       "      <td></td>\n",
       "      <td></td>\n",
       "      <td>Y</td>\n",
       "    </tr>\n",
       "  </tbody>\n",
       "</table>\n",
       "</div>"
      ],
      "text/plain": [
       "   PERSON_ID DISPLAY_LAST_COMMA_FIRST   DISPLAY_FIRST_LAST  ROSTERSTATUS  \\\n",
       "0      76001          Abdelnaby, Alaa       Alaa Abdelnaby             0   \n",
       "1      76002         Abdul-Aziz, Zaid      Zaid Abdul-Aziz             0   \n",
       "2      76003     Abdul-Jabbar, Kareem  Kareem Abdul-Jabbar             0   \n",
       "3         51      Abdul-Rauf, Mahmoud   Mahmoud Abdul-Rauf             0   \n",
       "4       1505       Abdul-Wahad, Tariq    Tariq Abdul-Wahad             0   \n",
       "\n",
       "  FROM_YEAR TO_YEAR                   PLAYERCODE  TEAM_ID TEAM_CITY TEAM_NAME  \\\n",
       "0      1990    1994       HISTADD_alaa_abdelnaby        0                       \n",
       "1      1968    1977      HISTADD_zaid_abdul-aziz        0                       \n",
       "2      1969    1988  HISTADD_kareem_abdul-jabbar        0                       \n",
       "3      1990    2000           mahmoud_abdul-rauf        0                       \n",
       "4      1997    2003            tariq_abdul-wahad        0                       \n",
       "\n",
       "  TEAM_ABBREVIATION TEAM_CODE GAMES_PLAYED_FLAG  \n",
       "0                                             Y  \n",
       "1                                             Y  \n",
       "2                                             Y  \n",
       "3                                             Y  \n",
       "4                                             Y  "
      ]
     },
     "execution_count": 21,
     "metadata": {},
     "output_type": "execute_result"
    }
   ],
   "source": [
    "players.head()"
   ]
  },
  {
   "cell_type": "code",
   "execution_count": null,
   "metadata": {
    "collapsed": false,
    "scrolled": true
   },
   "outputs": [
    {
     "name": "stdout",
     "output_type": "stream",
     "text": [
      "3062\n"
     ]
    }
   ],
   "source": [
    "for p in range(3062,len(pids)):\n",
    "    print(p)\n",
    "    #time.sleep(2)\n",
    "    for i in range(len(seasons)):\n",
    "        #time.sleep(.25)\n",
    "        if p == 0:\n",
    "            player_gamelogs = nba.player.PlayerGameLogs(pids[p], season=seasons[i]).info()\n",
    "        else:\n",
    "            player_gamelogs = player_gamelogs.append(nba.player.PlayerGameLogs(pids[p], season=seasons[i]).info())"
   ]
  },
  {
   "cell_type": "code",
   "execution_count": 124,
   "metadata": {
    "collapsed": false
   },
   "outputs": [
    {
     "data": {
      "text/plain": [
       "865667"
      ]
     },
     "execution_count": 124,
     "metadata": {},
     "output_type": "execute_result"
    }
   ],
   "source": [
    "len(player_gamelogs)"
   ]
  },
  {
   "cell_type": "code",
   "execution_count": 125,
   "metadata": {
    "collapsed": false
   },
   "outputs": [
    {
     "data": {
      "text/plain": [
       "3062"
      ]
     },
     "execution_count": 125,
     "metadata": {},
     "output_type": "execute_result"
    }
   ],
   "source": [
    "p"
   ]
  },
  {
   "cell_type": "code",
   "execution_count": null,
   "metadata": {
    "collapsed": true
   },
   "outputs": [],
   "source": [
    "player_gamelogs.to_csv('../test_gamelogs.csv', index=False)"
   ]
  }
 ],
 "metadata": {
  "kernelspec": {
   "display_name": "Python 3",
   "language": "python",
   "name": "python3"
  },
  "language_info": {
   "codemirror_mode": {
    "name": "ipython",
    "version": 3
   },
   "file_extension": ".py",
   "mimetype": "text/x-python",
   "name": "python",
   "nbconvert_exporter": "python",
   "pygments_lexer": "ipython3",
   "version": "3.5.1"
  }
 },
 "nbformat": 4,
 "nbformat_minor": 2
}
