{
 "cells": [
  {
   "cell_type": "markdown",
   "metadata": {},
   "source": [
    "# NBA Database Pull Code"
   ]
  },
  {
   "cell_type": "code",
   "execution_count": 1,
   "metadata": {
    "collapsed": false
   },
   "outputs": [
    {
     "name": "stderr",
     "output_type": "stream",
     "text": [
      "/Library/Frameworks/Python.framework/Versions/3.5/lib/python3.5/site-packages/psycopg2/__init__.py:144: UserWarning: The psycopg2 wheel package will be renamed from release 2.8; in order to keep installing from binary please use \"pip install psycopg2-binary\" instead. For details see: <http://initd.org/psycopg/docs/install.html#binary-install-from-pypi>.\n",
      "  \"\"\")\n"
     ]
    }
   ],
   "source": [
    "import pandas as pd\n",
    "import nba_py as nba\n",
    "from nba_py import player\n",
    "from nba_py import team\n",
    "from nba_py import league\n",
    "from nba_py import game\n",
    "from nba_py.player import get_player\n",
    "from datetime import datetime\n",
    "import json\n",
    "import os\n",
    "import psycopg2\n",
    "import time\n",
    "import numpy as np\n",
    "\n"
   ]
  },
  {
   "cell_type": "code",
   "execution_count": null,
   "metadata": {
    "collapsed": true
   },
   "outputs": [],
   "source": [
    "os.getcwd()"
   ]
  },
  {
   "cell_type": "markdown",
   "metadata": {},
   "source": [
    "## Code to Pull player_gamelogs Table"
   ]
  },
  {
   "cell_type": "code",
   "execution_count": null,
   "metadata": {
    "collapsed": true
   },
   "outputs": [],
   "source": [
    "# ###Fair warning: this code takes a while to run\n",
    "# df_players = player.PlayerList(season='2017-18', league_id= '00', only_current= '0').info()\n",
    "# for i in range(len(df_players.PERSON_ID)):\n",
    "#     if i==0:\n",
    "#         df_gl = player.PlayerGameLogs(df_players.PERSON_ID[i], league_id= '00', season= '2017-18', season_type= 'Regular Season').info()\n",
    "#     else:\n",
    "#         df_gl = df_gl.append(player.PlayerGameLogs(df_players.PERSON_ID[i], league_id= '00', season= '2017-18', season_type= 'Regular Season').info())\n",
    "\n",
    "# df_players = player.PlayerList(season='2016-17', league_id= '00', only_current= '0').info()\n",
    "# for i in range(len(df_players.PERSON_ID)):\n",
    "#     if i==0:\n",
    "#         df_gl16 = player.PlayerGameLogs(df_players.PERSON_ID[i], league_id= '00', season= '2016-17', season_type= 'Regular Season').info()\n",
    "#     else:\n",
    "#         df_gl16 = df_gl16.append(player.PlayerGameLogs(df_players.PERSON_ID[i], league_id= '00', season= '2016-17', season_type= 'Regular Season').info())\n",
    "\n",
    "# df_players = player.PlayerList(season='2015-16', league_id= '00', only_current= '0').info()\n",
    "# for i in range(len(df_players.PERSON_ID)):\n",
    "#     if i==0:\n",
    "#         df_gl15 = player.PlayerGameLogs(df_players.PERSON_ID[i], league_id= '00', season= '2015-16', season_type= 'Regular Season').info()\n",
    "#     else:\n",
    "#         df_gl15 = df_gl15.append(player.PlayerGameLogs(df_players.PERSON_ID[i], league_id= '00', season= '2015-16', season_type= 'Regular Season').info())\n",
    "\n",
    "# df_players = player.PlayerList(season='2014-15', league_id= '00', only_current= '0').info()\n",
    "# for i in range(len(df_players.PERSON_ID)):\n",
    "#     if i==0:\n",
    "#         df_gl14 = player.PlayerGameLogs(df_players.PERSON_ID[i], league_id= '00', season= '2014-15', season_type= 'Regular Season').info()\n",
    "#     else:\n",
    "#         df_gl14 = df_gl14.append(player.PlayerGameLogs(df_players.PERSON_ID[i], league_id= '00', season= '2014-15', season_type= 'Regular Season').info())\n",
    "\n",
    "# df_players = player.PlayerList(season='2013-14', league_id= '00', only_current= '0').info()\n",
    "# for i in range(len(df_players.PERSON_ID)):\n",
    "#     if i==0:\n",
    "#         df_gl13 = player.PlayerGameLogs(df_players.PERSON_ID[i], league_id= '00', season= '2013-14', season_type= 'Regular Season').info()\n",
    "#     else:\n",
    "#         df_gl13 = df_gl13.append(player.PlayerGameLogs(df_players.PERSON_ID[i], league_id= '00', season= '2013-14', season_type= 'Regular Season').info())\n",
    "\n",
    "# df_players = player.PlayerList(season='2012-13', league_id= '00', only_current= '0').info()\n",
    "# for i in range(len(df_players.PERSON_ID)):\n",
    "#     if i==0:\n",
    "#         df_gl12 = player.PlayerGameLogs(df_players.PERSON_ID[i], league_id= '00', season= '2012-13', season_type= 'Regular Season').info()\n",
    "#     else:\n",
    "#         df_gl12 = df_gl12.append(player.PlayerGameLogs(df_players.PERSON_ID[i], league_id= '00', season= '2012-13', season_type= 'Regular Season').info())\n",
    "\n",
    "# df_players = player.PlayerList(season='2011-12', league_id= '00', only_current= '0').info()\n",
    "# for i in range(len(df_players.PERSON_ID)):\n",
    "#     if i==0:\n",
    "#         df_gl11 = player.PlayerGameLogs(df_players.PERSON_ID[i], league_id= '00', season= '2011-12', season_type= 'Regular Season').info()\n",
    "#     else:\n",
    "#         df_gl11 = df_gl11.append(player.PlayerGameLogs(df_players.PERSON_ID[i], league_id= '00', season= '2011-12', season_type= 'Regular Season').info())\n",
    "\n",
    "# df_players = player.PlayerList(season='2010-11', league_id= '00', only_current= '0').info()\n",
    "# for i in range(len(df_players.PERSON_ID)):\n",
    "#     if i==0:\n",
    "#         df_gl10 = player.PlayerGameLogs(df_players.PERSON_ID[i], league_id= '00', season= '2010-11', season_type= 'Regular Season').info()\n",
    "#     else:\n",
    "#         df_gl10 = df_gl10.append(player.PlayerGameLogs(df_players.PERSON_ID[i], league_id= '00', season= '2010-11', season_type= 'Regular Season').info())\n",
    "\n",
    "# df_players = player.PlayerList(season='2009-10', league_id= '00', only_current= '0').info()\n",
    "# for i in range(len(df_players.PERSON_ID)):\n",
    "#     if i==0:\n",
    "#         df_gl09 = player.PlayerGameLogs(df_players.PERSON_ID[i], league_id= '00', season= '2009-10', season_type= 'Regular Season').info()\n",
    "#     else:\n",
    "#         df_gl09 = df_gl09.append(player.PlayerGameLogs(df_players.PERSON_ID[i], league_id= '00', season= '2009-10', season_type= 'Regular Season').info())\n",
    "\n",
    "# df_players = player.PlayerList(season='2008-09', league_id= '00', only_current= '0').info()\n",
    "# for i in range(len(df_players.PERSON_ID)):\n",
    "#     if i==0:\n",
    "#         df_gl08 = player.PlayerGameLogs(df_players.PERSON_ID[i], league_id= '00', season= '2008-09', season_type= 'Regular Season').info()\n",
    "#     else:\n",
    "#         df_gl08 = df_gl08.append(player.PlayerGameLogs(df_players.PERSON_ID[i], league_id= '00', season= '2008-09', season_type= 'Regular Season').info())\n",
    "\n",
    "# df_players = player.PlayerList(season='2007-08', league_id= '00', only_current= '0').info()\n",
    "# for i in range(len(df_players.PERSON_ID)):\n",
    "#     if i==0:\n",
    "#         df_gl07 = player.PlayerGameLogs(df_players.PERSON_ID[i], league_id= '00', season= '2007-08', season_type= 'Regular Season').info()\n",
    "#     else:\n",
    "#         df_gl07 = df_gl08.append(player.PlayerGameLogs(df_players.PERSON_ID[i], league_id= '00', season= '2007-08', season_type= 'Regular Season').info())\n",
    "\n",
    "# frames = [df_gl, df_gl16, df_gl15, df_gl14, df_gl13, df_gl12, df_gl11, df_gl10, df_gl09, df_gl08, df_gl07]\n",
    "# game_logs = pd.concat(frames)\n",
    "# len(game_logs)"
   ]
  },
  {
   "cell_type": "markdown",
   "metadata": {},
   "source": [
    "#### Save and load csv so don't have to deal with annoying pandas series when looping"
   ]
  },
  {
   "cell_type": "code",
   "execution_count": 2,
   "metadata": {
    "collapsed": true
   },
   "outputs": [],
   "source": [
    "# game_logs.to_csv('db_flat/player_gamelogs.csv', index= False)\n",
    "# game_logs = pd.read_csv('db_flat/player_gamelogs.csv')"
   ]
  },
  {
   "cell_type": "markdown",
   "metadata": {},
   "source": [
    "#### Convert floats to ints"
   ]
  },
  {
   "cell_type": "code",
   "execution_count": 3,
   "metadata": {
    "collapsed": true
   },
   "outputs": [],
   "source": [
    "# cols_to_int = ['SEASON_ID', 'Player_ID', 'MIN', 'FGM', 'FGA','FG3M', 'FG3A',  'FTM', 'FTA',\n",
    "#         'OREB', 'DREB', 'REB', 'AST', 'STL', 'BLK', 'TOV', 'PF',\n",
    "#        'PTS', 'PLUS_MINUS', 'VIDEO_AVAILABLE']\n",
    "# for i in range(len(cols_to_int)):\n",
    "#     game_logs[cols_to_int[i]] = game_logs[cols_to_int[i]].fillna(-1, axis=0).astype(int)"
   ]
  },
  {
   "cell_type": "code",
   "execution_count": 4,
   "metadata": {
    "collapsed": true
   },
   "outputs": [],
   "source": [
    "# sid = []\n",
    "# for i in range(len(game_logs)):\n",
    "#     if game_logs.SEASON_ID[i] == 22017:\n",
    "#         sid.append('2017-18')\n",
    "#     elif game_logs.SEASON_ID[i] == 22016:\n",
    "#         sid.append('2016-17')\n",
    "#     elif game_logs.SEASON_ID[i] == 22015:\n",
    "#         sid.append('2015-16')\n",
    "#     elif game_logs.SEASON_ID[i] == 22014:\n",
    "#         sid.append('2014-15')\n",
    "#     elif game_logs.SEASON_ID[i] == 22013:\n",
    "#         sid.append('2013-14')\n",
    "#     elif game_logs.SEASON_ID[i] == 22012:\n",
    "#         sid.append('2012-13')\n",
    "#     elif game_logs.SEASON_ID[i] == 22011:\n",
    "#         sid.append('2011-12')\n",
    "#     elif game_logs.SEASON_ID[i] == 22010:\n",
    "#         sid.append('2010-11')\n",
    "#     elif game_logs.SEASON_ID[i] == 22009:\n",
    "#         sid.append('2009-10')\n",
    "#     elif game_logs.SEASON_ID[i] == 22008:\n",
    "#         sid.append('2008-09')\n",
    "#     elif game_logs.SEASON_ID[i] == 22007:\n",
    "#         sid.append('2007-08')\n",
    "# game_logs.drop(['SEASON_ID'], axis = 1)\n",
    "# game_logs['SEASON_ID']= sid"
   ]
  },
  {
   "cell_type": "markdown",
   "metadata": {},
   "source": [
    "#### Create home and away columns"
   ]
  },
  {
   "cell_type": "code",
   "execution_count": 5,
   "metadata": {
    "collapsed": true
   },
   "outputs": [],
   "source": [
    "# home = []\n",
    "# away = []\n",
    "# for i in range(len(game_logs)):\n",
    "#     if \"@\" in game_logs.MATCHUP[i]:\n",
    "#         home.append(game_logs.MATCHUP[i][-3:])\n",
    "#         away.append(game_logs.MATCHUP[i][0:3])\n",
    "#     else:\n",
    "#         home.append(game_logs.MATCHUP[i][0:3])\n",
    "#         away.append(game_logs.MATCHUP[i][-3:])\n",
    "# game_logs['home'] = home\n",
    "# game_logs['away'] = away"
   ]
  },
  {
   "cell_type": "markdown",
   "metadata": {},
   "source": [
    "#### save over same file"
   ]
  },
  {
   "cell_type": "code",
   "execution_count": null,
   "metadata": {
    "collapsed": true
   },
   "outputs": [],
   "source": [
    "# game_logs.to_csv('db_flat/player_gamelogs.csv', index= False)"
   ]
  },
  {
   "cell_type": "markdown",
   "metadata": {},
   "source": [
    "## Get player table for ID lookup"
   ]
  },
  {
   "cell_type": "markdown",
   "metadata": {},
   "source": [
    "#### Get unique player IDs"
   ]
  },
  {
   "cell_type": "code",
   "execution_count": null,
   "metadata": {
    "collapsed": true
   },
   "outputs": [],
   "source": [
    "pids = game_logs.Player_ID.unique()"
   ]
  },
  {
   "cell_type": "code",
   "execution_count": null,
   "metadata": {
    "collapsed": true
   },
   "outputs": [],
   "source": [
    "for i in range(len(pids)):\n",
    "    if i == 0:\n",
    "        players = nba.player.PlayerSummary(pids[i]).info()\n",
    "    else:\n",
    "        players = players.append(nba.player.PlayerSummary(pids[i]).info())"
   ]
  },
  {
   "cell_type": "code",
   "execution_count": null,
   "metadata": {
    "collapsed": true
   },
   "outputs": [],
   "source": [
    "players.to_csv('db_flat/players_header.csv', index=False)"
   ]
  },
  {
   "cell_type": "markdown",
   "metadata": {},
   "source": [
    "## Pull Team Box Score Data\n",
    "\n",
    "Should probably change this in the DB too to make consistent"
   ]
  },
  {
   "cell_type": "code",
   "execution_count": 6,
   "metadata": {
    "collapsed": true
   },
   "outputs": [],
   "source": [
    "# gids = game_logs.Game_ID.unique()\n",
    "# for i in range(len(gids)):\n",
    "#     if i == 0:\n",
    "#         team_gl = nba.game.Boxscore(\"00\" + str(gids[i])).team_stats()\n",
    "#     else:\n",
    "#         team_gl = team_gl.append(nba.game.Boxscore(\"00\" + str(gids[i])).team_stats())"
   ]
  },
  {
   "cell_type": "code",
   "execution_count": 7,
   "metadata": {
    "collapsed": true
   },
   "outputs": [],
   "source": [
    "# cols_to_int = [\"PLUS_MINUS\"]\n",
    "# for i in range(len(cols_to_int)):\n",
    "#     team_gl[cols_to_int[i]] = team_gl[cols_to_int[i]].fillna(-1, axis=0).astype(int)"
   ]
  },
  {
   "cell_type": "code",
   "execution_count": 8,
   "metadata": {
    "collapsed": true
   },
   "outputs": [],
   "source": [
    "# team_gl.to_csv(\"team_game_logs.csv\", index=False)"
   ]
  },
  {
   "cell_type": "markdown",
   "metadata": {},
   "source": [
    "## Team Seasons Pull"
   ]
  },
  {
   "cell_type": "code",
   "execution_count": null,
   "metadata": {
    "collapsed": true
   },
   "outputs": [],
   "source": [
    "df_teams = nba.team.TeamList().info()[0:30]\n",
    "team_ids = df_teams.TEAM_ID.unique()\n",
    "for i in range(len(team_ids)):\n",
    "    if i == 0:\n",
    "        team_seasons = nba.team.TeamSeasons(team_ids[i]).info()\n",
    "    else:\n",
    "        team_seasons = team_seasons.append(nba.team.TeamSeasons(team_ids[i]).info())\n",
    "    "
   ]
  },
  {
   "cell_type": "code",
   "execution_count": null,
   "metadata": {
    "collapsed": true
   },
   "outputs": [],
   "source": [
    "team_seasons.to_csv(\"team_seasons.csv\", index=False )"
   ]
  },
  {
   "cell_type": "markdown",
   "metadata": {},
   "source": [
    "## Team Game Logs\n",
    "pulls team game logs"
   ]
  },
  {
   "cell_type": "code",
   "execution_count": null,
   "metadata": {
    "collapsed": true
   },
   "outputs": [],
   "source": [
    "team_gl.reset_index(inplace=True,)\n",
    "for i in range(len(team_seasons)):\n",
    "    if i == 0:\n",
    "        team_gl = nba.team.TeamGameLogs(team_seasons.TEAM_ID[i], team_seasons.YEAR[i]).info()\n",
    "    else:\n",
    "        team_gl = team_gl.append(nba.team.TeamGameLogs(team_seasons.TEAM_ID[i], team_seasons.YEAR[i]).info())"
   ]
  },
  {
   "cell_type": "code",
   "execution_count": null,
   "metadata": {
    "collapsed": true
   },
   "outputs": [],
   "source": [
    "team_gl.tail()"
   ]
  },
  {
   "cell_type": "code",
   "execution_count": null,
   "metadata": {
    "collapsed": true
   },
   "outputs": [],
   "source": [
    "cols_to_int = ['W', 'L', 'FGM', 'FGA', 'FG3M', 'FG3A', 'FTM', 'FTA', 'OREB', 'DREB','BLK', 'AST', 'STL', 'TOV', 'PF']\n",
    "for i in range(len(cols_to_int)):\n",
    "    team_gl[cols_to_int[i]] = team_gl[cols_to_int[i]].fillna(-1, axis=0).astype(int)\n",
    "team_gl.W_PCT = team_gl.W_PCT.fillna(-1.0, axis = 0)"
   ]
  },
  {
   "cell_type": "code",
   "execution_count": null,
   "metadata": {
    "collapsed": true
   },
   "outputs": [],
   "source": [
    "team_gl.to_csv(\"../db_flat/team_gamelogs.csv\", index=False)"
   ]
  },
  {
   "cell_type": "markdown",
   "metadata": {},
   "source": [
    "## Redo of player game logs\n",
    "\n"
   ]
  },
  {
   "cell_type": "code",
   "execution_count": null,
   "metadata": {
    "collapsed": true
   },
   "outputs": [],
   "source": [
    "df_teams = pd.read_csv(\"../db_flat/team_seasons.csv\")\n",
    "df_teams.head()"
   ]
  },
  {
   "cell_type": "code",
   "execution_count": null,
   "metadata": {
    "collapsed": true
   },
   "outputs": [],
   "source": [
    "seasons = df_teams.YEAR.unique()\n",
    "players = nba.player.PlayerList(league_id='00', only_current=0).info()\n",
    "pids = players.PERSON_ID.unique()"
   ]
  },
  {
   "cell_type": "code",
   "execution_count": null,
   "metadata": {
    "collapsed": true
   },
   "outputs": [],
   "source": [
    "players.head()"
   ]
  },
  {
   "cell_type": "code",
   "execution_count": null,
   "metadata": {
    "collapsed": true
   },
   "outputs": [],
   "source": [
    "for p in range(4135,len(pids)):\n",
    "    print(p)\n",
    "    #time.sleep(2)\n",
    "    for i in range(len(seasons)):\n",
    "        #time.sleep(.25)\n",
    "        if p == 0:\n",
    "            player_gamelogs = nba.player.PlayerGameLogs(pids[p], season=seasons[i]).info()\n",
    "        else:\n",
    "            player_gamelogs = player_gamelogs.append(nba.player.PlayerGameLogs(pids[p], season=seasons[i]).info())"
   ]
  },
  {
   "cell_type": "code",
   "execution_count": null,
   "metadata": {
    "collapsed": true
   },
   "outputs": [],
   "source": [
    "player_gamelogs = player_gamelogs.drop_duplicates()"
   ]
  },
  {
   "cell_type": "code",
   "execution_count": null,
   "metadata": {
    "collapsed": true
   },
   "outputs": [],
   "source": [
    "player_gamelogs.to_csv(\"player_gamelogs_all.csv\", index=False)"
   ]
  },
  {
   "cell_type": "code",
   "execution_count": null,
   "metadata": {
    "collapsed": true
   },
   "outputs": [],
   "source": []
  },
  {
   "cell_type": "code",
   "execution_count": null,
   "metadata": {
    "collapsed": true
   },
   "outputs": [],
   "source": []
  },
  {
   "cell_type": "code",
   "execution_count": null,
   "metadata": {
    "collapsed": true
   },
   "outputs": [],
   "source": []
  },
  {
   "cell_type": "code",
   "execution_count": null,
   "metadata": {
    "collapsed": true
   },
   "outputs": [],
   "source": []
  },
  {
   "cell_type": "code",
   "execution_count": null,
   "metadata": {
    "collapsed": true
   },
   "outputs": [],
   "source": []
  },
  {
   "cell_type": "code",
   "execution_count": null,
   "metadata": {
    "collapsed": true
   },
   "outputs": [],
   "source": []
  }
 ],
 "metadata": {
  "kernelspec": {
   "display_name": "Python 3",
   "language": "python",
   "name": "python3"
  },
  "language_info": {
   "codemirror_mode": {
    "name": "ipython",
    "version": 3
   },
   "file_extension": ".py",
   "mimetype": "text/x-python",
   "name": "python",
   "nbconvert_exporter": "python",
   "pygments_lexer": "ipython3",
   "version": "3.5.1"
  }
 },
 "nbformat": 4,
 "nbformat_minor": 2
}
